{
 "cells": [
  {
   "cell_type": "code",
   "execution_count": 2,
   "id": "3cc30ccd-b23c-4edd-a230-0f998f8ff10f",
   "metadata": {
    "editable": true,
    "slideshow": {
     "slide_type": ""
    },
    "tags": []
   },
   "outputs": [],
   "source": [
    "import pandas as pd\n",
    "df = pd.read_csv('creditcard.csv')"
   ]
  },
  {
   "cell_type": "code",
   "execution_count": 4,
   "id": "fcf20967-d3a3-49fd-8600-2647afe7e35a",
   "metadata": {},
   "outputs": [],
   "source": [
    "from sklearn.preprocessing import StandardScaler"
   ]
  },
  {
   "cell_type": "code",
   "execution_count": 6,
   "id": "833b5a94-9fec-414c-861f-71db0713407f",
   "metadata": {},
   "outputs": [
    {
     "name": "stdout",
     "output_type": "stream",
     "text": [
      "             Amount          Time\n",
      "count  2.848070e+05  2.848070e+05\n",
      "mean   2.913952e-17 -3.065637e-16\n",
      "std    1.000002e+00  1.000002e+00\n",
      "min   -3.532294e-01 -1.996583e+00\n",
      "25%   -3.308401e-01 -8.552120e-01\n",
      "50%   -2.652715e-01 -2.131453e-01\n",
      "75%   -4.471707e-02  9.372174e-01\n",
      "max    1.023622e+02  1.642058e+00\n"
     ]
    }
   ],
   "source": [
    "scaler = StandardScaler()\n",
    "df[['Amount','Time']] = scaler.fit_transform(df[['Amount','Time']])\n",
    "print(df[['Amount','Time']].describe())"
   ]
  },
  {
   "cell_type": "code",
   "execution_count": null,
   "id": "e5cf57cb-87fc-4f66-b9a0-f02d676337ea",
   "metadata": {
    "editable": true,
    "slideshow": {
     "slide_type": ""
    },
    "tags": []
   },
   "outputs": [],
   "source": []
  }
 ],
 "metadata": {
  "kernelspec": {
   "display_name": "Python [conda env:base] *",
   "language": "python",
   "name": "conda-base-py"
  },
  "language_info": {
   "codemirror_mode": {
    "name": "ipython",
    "version": 3
   },
   "file_extension": ".py",
   "mimetype": "text/x-python",
   "name": "python",
   "nbconvert_exporter": "python",
   "pygments_lexer": "ipython3",
   "version": "3.12.7"
  }
 },
 "nbformat": 4,
 "nbformat_minor": 5
}
